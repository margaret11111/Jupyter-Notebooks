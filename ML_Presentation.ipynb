{
 "cells": [
  {
   "cell_type": "markdown",
   "id": "a668f312-13f1-41de-818c-f1bf2ee2db64",
   "metadata": {},
   "source": [
    "# Ensemble Learning with Python - Boosting\n",
    "#### Margaret Martinez\n",
    "##### Septempter 07, 2022"
   ]
  },
  {
   "cell_type": "markdown",
   "id": "805f14e8-39b4-45e8-96bd-dbdfb2f1a4e1",
   "metadata": {},
   "source": [
    "## About Me\n",
    "- Learning Source\n",
    "- Desert Financial Credit Union\n",
    "- Televerde\n",
    "- ATT\n"
   ]
  },
  {
   "cell_type": "markdown",
   "id": "2c4ad9b0-2be8-415e-a048-9e7047263f2f",
   "metadata": {},
   "source": [
    "## Agenda\n",
    "### Overview of Ensemble Learning\n",
    "#### - Most Common Type of Ensemble Learning\n",
    "- Bagging\n",
    "- Pasting\n",
    "- Boosting\n",
    "- Stacking\n",
    "\n",
    "### Familiarize with the implementation of Boosting using AdaBoost in Python - Adpative Boosting: \n",
    "\n"
   ]
  },
  {
   "cell_type": "markdown",
   "id": "89716182-0e81-4446-9432-f9c97696337d",
   "metadata": {},
   "source": [
    "### Boosting: \n",
    "Boosting is a class of ensemble machine learning algorithms that involve combining the predictions from many weak learners. A weak learner is a model that is very simple, although has some skill on the dataset. \n",
    "\n",
    "\n",
    "The AdaBoost algorithm involves using very short (one-level) decision trees as weak learners that are added sequentially to the ensemble. Each subsequent model attempts to correct the predictions made by the model before it in the sequence. This is achieved by weighing the training dataset to put more focus on training examples on which prior models made prediction errors."
   ]
  },
  {
   "cell_type": "markdown",
   "id": "43f69408-69c5-4e05-b000-b01552cc80d6",
   "metadata": {},
   "source": [
    "# Ensemble Learning\n"
   ]
  },
  {
   "cell_type": "markdown",
   "id": "69852ce3-d64f-4962-9393-365cc2d19023",
   "metadata": {},
   "source": [
    "## References\n",
    " "
   ]
  },
  {
   "cell_type": "code",
   "execution_count": null,
   "id": "28f6caa3-725c-4e55-abb9-63bd41f6d647",
   "metadata": {},
   "outputs": [],
   "source": []
  }
 ],
 "metadata": {
  "kernelspec": {
   "display_name": "Python 3 (ipykernel)",
   "language": "python",
   "name": "python3"
  },
  "language_info": {
   "codemirror_mode": {
    "name": "ipython",
    "version": 3
   },
   "file_extension": ".py",
   "mimetype": "text/x-python",
   "name": "python",
   "nbconvert_exporter": "python",
   "pygments_lexer": "ipython3",
   "version": "3.10.2"
  }
 },
 "nbformat": 4,
 "nbformat_minor": 5
}
